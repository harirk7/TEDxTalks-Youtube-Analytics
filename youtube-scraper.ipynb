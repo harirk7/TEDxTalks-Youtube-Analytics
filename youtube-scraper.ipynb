{
 "cells": [
  {
   "cell_type": "markdown",
   "metadata": {},
   "source": [
    "### Import Libraries\n",
    "- googleapiclient\n",
    "- pandas for pre-processing"
   ]
  },
  {
   "cell_type": "code",
   "execution_count": 1,
   "metadata": {},
   "outputs": [],
   "source": [
    "from googleapiclient.discovery import build\n",
    "import pandas as pd # data pre-processing\n",
    "import youtubescraper as yt\n",
    "import config"
   ]
  },
  {
   "cell_type": "code",
   "execution_count": 2,
   "metadata": {},
   "outputs": [],
   "source": [
    "api_key = config.api_key"
   ]
  },
  {
   "cell_type": "code",
   "execution_count": 3,
   "metadata": {},
   "outputs": [],
   "source": [
    "channels_id = [\n",
    "    'UCsT0YIqwnpJCM-mx7-gSA4Q', #TEDx Talks\n",
    "    # we can add more channel ids here\n",
    "]"
   ]
  },
  {
   "cell_type": "code",
   "execution_count": 4,
   "metadata": {},
   "outputs": [],
   "source": [
    "api_service_name = \"youtube\"\n",
    "api_version = \"v3\"\n",
    "\n",
    "# Get credentials and create an API client\n",
    "youtube = build(api_service_name, api_version, developerKey=api_key)"
   ]
  },
  {
   "cell_type": "markdown",
   "metadata": {},
   "source": [
    "### Get Channel Stats"
   ]
  },
  {
   "cell_type": "code",
   "execution_count": 5,
   "metadata": {},
   "outputs": [
    {
     "data": {
      "text/html": [
       "<div>\n",
       "<style scoped>\n",
       "    .dataframe tbody tr th:only-of-type {\n",
       "        vertical-align: middle;\n",
       "    }\n",
       "\n",
       "    .dataframe tbody tr th {\n",
       "        vertical-align: top;\n",
       "    }\n",
       "\n",
       "    .dataframe thead th {\n",
       "        text-align: right;\n",
       "    }\n",
       "</style>\n",
       "<table border=\"1\" class=\"dataframe\">\n",
       "  <thead>\n",
       "    <tr style=\"text-align: right;\">\n",
       "      <th></th>\n",
       "      <th>channel_name</th>\n",
       "      <th>subscribers</th>\n",
       "      <th>videos</th>\n",
       "      <th>views</th>\n",
       "      <th>playlist_id</th>\n",
       "    </tr>\n",
       "  </thead>\n",
       "  <tbody>\n",
       "    <tr>\n",
       "      <th>0</th>\n",
       "      <td>TEDx Talks</td>\n",
       "      <td>35400000</td>\n",
       "      <td>183875</td>\n",
       "      <td>6555696786</td>\n",
       "      <td>UUsT0YIqwnpJCM-mx7-gSA4Q</td>\n",
       "    </tr>\n",
       "  </tbody>\n",
       "</table>\n",
       "</div>"
      ],
      "text/plain": [
       "  channel_name subscribers  videos       views               playlist_id\n",
       "0   TEDx Talks    35400000  183875  6555696786  UUsT0YIqwnpJCM-mx7-gSA4Q"
      ]
     },
     "execution_count": 5,
     "metadata": {},
     "output_type": "execute_result"
    }
   ],
   "source": [
    "channels_stats = yt.get_channels_stats(youtube, channels_id)\n",
    "channels_stats = pd.DataFrame(channels_stats)\n",
    "channels_stats"
   ]
  },
  {
   "cell_type": "markdown",
   "metadata": {},
   "source": [
    "### Get Playlist ID"
   ]
  },
  {
   "cell_type": "code",
   "execution_count": 7,
   "metadata": {},
   "outputs": [
    {
     "data": {
      "text/plain": [
       "['UUsT0YIqwnpJCM-mx7-gSA4Q']"
      ]
     },
     "execution_count": 7,
     "metadata": {},
     "output_type": "execute_result"
    }
   ],
   "source": [
    "playlists_id = yt.get_playlists_id(channels_stats)\n",
    "playlists_id"
   ]
  },
  {
   "cell_type": "markdown",
   "metadata": {},
   "source": [
    "### Get Video IDs"
   ]
  },
  {
   "cell_type": "code",
   "execution_count": 15,
   "metadata": {},
   "outputs": [
    {
     "data": {
      "text/plain": [
       "['LGKT_m8D5EM', 'x305RTCB1NM', 'CoZNzxqKvLo', 'xhPVTOHvfQU', '0JHk8nEl6wk']"
      ]
     },
     "execution_count": 15,
     "metadata": {},
     "output_type": "execute_result"
    }
   ],
   "source": [
    "videos_id = yt.get_videos_id(youtube, playlists_id)\n",
    "videos_id[:5]"
   ]
  },
  {
   "cell_type": "markdown",
   "metadata": {},
   "source": [
    "### Get Video Data"
   ]
  },
  {
   "cell_type": "code",
   "execution_count": 9,
   "metadata": {},
   "outputs": [
    {
     "data": {
      "text/html": [
       "<div>\n",
       "<style scoped>\n",
       "    .dataframe tbody tr th:only-of-type {\n",
       "        vertical-align: middle;\n",
       "    }\n",
       "\n",
       "    .dataframe tbody tr th {\n",
       "        vertical-align: top;\n",
       "    }\n",
       "\n",
       "    .dataframe thead th {\n",
       "        text-align: right;\n",
       "    }\n",
       "</style>\n",
       "<table border=\"1\" class=\"dataframe\">\n",
       "  <thead>\n",
       "    <tr style=\"text-align: right;\">\n",
       "      <th></th>\n",
       "      <th>video_id</th>\n",
       "      <th>channel_title</th>\n",
       "      <th>video_title</th>\n",
       "      <th>description</th>\n",
       "      <th>published_date</th>\n",
       "      <th>tags</th>\n",
       "      <th>language</th>\n",
       "      <th>duration</th>\n",
       "      <th>views</th>\n",
       "      <th>likes</th>\n",
       "      <th>comments</th>\n",
       "      <th>favorites</th>\n",
       "    </tr>\n",
       "  </thead>\n",
       "  <tbody>\n",
       "    <tr>\n",
       "      <th>0</th>\n",
       "      <td>LGKT_m8D5EM</td>\n",
       "      <td>TEDx Talks</td>\n",
       "      <td>The best career path isn't always a straight l...</td>\n",
       "      <td>Career development consultants Sarah Ellis and...</td>\n",
       "      <td>2022-07-06T19:15:02Z</td>\n",
       "      <td>[TEDx, TED, shorts, career, work, career devel...</td>\n",
       "      <td>en</td>\n",
       "      <td>PT59S</td>\n",
       "      <td>11582</td>\n",
       "      <td>613</td>\n",
       "      <td>12</td>\n",
       "      <td>0</td>\n",
       "    </tr>\n",
       "    <tr>\n",
       "      <th>1</th>\n",
       "      <td>x305RTCB1NM</td>\n",
       "      <td>TEDx Talks</td>\n",
       "      <td>The Points of Life | Anja Evenson | TEDxClemsonU</td>\n",
       "      <td>Anja Evenson shares her idea on the \"points of...</td>\n",
       "      <td>2022-07-06T18:28:14Z</td>\n",
       "      <td>[English, Life, Purpose, TEDxTalks, [TEDxEID:4...</td>\n",
       "      <td>en</td>\n",
       "      <td>PT9M48S</td>\n",
       "      <td>2950</td>\n",
       "      <td>100</td>\n",
       "      <td>4</td>\n",
       "      <td>0</td>\n",
       "    </tr>\n",
       "    <tr>\n",
       "      <th>2</th>\n",
       "      <td>CoZNzxqKvLo</td>\n",
       "      <td>TEDx Talks</td>\n",
       "      <td>Lachen braucht keinen Grund | Carmen Goglin | ...</td>\n",
       "      <td>Dass Lachen die beste Medizin ist, ist allgeme...</td>\n",
       "      <td>2022-07-06T18:27:39Z</td>\n",
       "      <td>[Body, Depression, Emotions, German, Health, L...</td>\n",
       "      <td>de</td>\n",
       "      <td>PT13M16S</td>\n",
       "      <td>432</td>\n",
       "      <td>13</td>\n",
       "      <td>2</td>\n",
       "      <td>0</td>\n",
       "    </tr>\n",
       "    <tr>\n",
       "      <th>3</th>\n",
       "      <td>xhPVTOHvfQU</td>\n",
       "      <td>TEDx Talks</td>\n",
       "      <td>Energiewende selbst gemacht - So einfach ist B...</td>\n",
       "      <td>Photovoltaik für Privatpersonen – geht das übe...</td>\n",
       "      <td>2022-07-06T18:27:20Z</td>\n",
       "      <td>[Activism, Climate Change, Electricity, German...</td>\n",
       "      <td>de</td>\n",
       "      <td>PT13M54S</td>\n",
       "      <td>223</td>\n",
       "      <td>3</td>\n",
       "      <td>0</td>\n",
       "      <td>0</td>\n",
       "    </tr>\n",
       "    <tr>\n",
       "      <th>4</th>\n",
       "      <td>0JHk8nEl6wk</td>\n",
       "      <td>TEDx Talks</td>\n",
       "      <td>Vergesst Networking - oder macht es richtig! |...</td>\n",
       "      <td>Networking ist für Martina Haas mehr als nur e...</td>\n",
       "      <td>2022-07-06T18:26:44Z</td>\n",
       "      <td>[Business, Communication, Community, German, L...</td>\n",
       "      <td>de</td>\n",
       "      <td>PT20M53S</td>\n",
       "      <td>253</td>\n",
       "      <td>6</td>\n",
       "      <td>0</td>\n",
       "      <td>0</td>\n",
       "    </tr>\n",
       "  </tbody>\n",
       "</table>\n",
       "</div>"
      ],
      "text/plain": [
       "      video_id channel_title  \\\n",
       "0  LGKT_m8D5EM    TEDx Talks   \n",
       "1  x305RTCB1NM    TEDx Talks   \n",
       "2  CoZNzxqKvLo    TEDx Talks   \n",
       "3  xhPVTOHvfQU    TEDx Talks   \n",
       "4  0JHk8nEl6wk    TEDx Talks   \n",
       "\n",
       "                                         video_title  \\\n",
       "0  The best career path isn't always a straight l...   \n",
       "1   The Points of Life | Anja Evenson | TEDxClemsonU   \n",
       "2  Lachen braucht keinen Grund | Carmen Goglin | ...   \n",
       "3  Energiewende selbst gemacht - So einfach ist B...   \n",
       "4  Vergesst Networking - oder macht es richtig! |...   \n",
       "\n",
       "                                         description        published_date  \\\n",
       "0  Career development consultants Sarah Ellis and...  2022-07-06T19:15:02Z   \n",
       "1  Anja Evenson shares her idea on the \"points of...  2022-07-06T18:28:14Z   \n",
       "2  Dass Lachen die beste Medizin ist, ist allgeme...  2022-07-06T18:27:39Z   \n",
       "3  Photovoltaik für Privatpersonen – geht das übe...  2022-07-06T18:27:20Z   \n",
       "4  Networking ist für Martina Haas mehr als nur e...  2022-07-06T18:26:44Z   \n",
       "\n",
       "                                                tags language  duration  \\\n",
       "0  [TEDx, TED, shorts, career, work, career devel...       en     PT59S   \n",
       "1  [English, Life, Purpose, TEDxTalks, [TEDxEID:4...       en   PT9M48S   \n",
       "2  [Body, Depression, Emotions, German, Health, L...       de  PT13M16S   \n",
       "3  [Activism, Climate Change, Electricity, German...       de  PT13M54S   \n",
       "4  [Business, Communication, Community, German, L...       de  PT20M53S   \n",
       "\n",
       "   views likes comments favorites  \n",
       "0  11582   613       12         0  \n",
       "1   2950   100        4         0  \n",
       "2    432    13        2         0  \n",
       "3    223     3        0         0  \n",
       "4    253     6        0         0  "
      ]
     },
     "execution_count": 9,
     "metadata": {},
     "output_type": "execute_result"
    }
   ],
   "source": [
    "video_details = yt.get_videos_details(youtube, videos_id)\n",
    "videos_df = pd.DataFrame(video_details)\n",
    "videos_df.head()"
   ]
  },
  {
   "cell_type": "code",
   "execution_count": 27,
   "metadata": {},
   "outputs": [],
   "source": [
    "videos_df.to_csv('TEDxTalks.csv')"
   ]
  }
 ],
 "metadata": {
  "kernelspec": {
   "display_name": "Python 3.10.5 ('youtube')",
   "language": "python",
   "name": "python3"
  },
  "language_info": {
   "codemirror_mode": {
    "name": "ipython",
    "version": 3
   },
   "file_extension": ".py",
   "mimetype": "text/x-python",
   "name": "python",
   "nbconvert_exporter": "python",
   "pygments_lexer": "ipython3",
   "version": "3.10.5"
  },
  "orig_nbformat": 4,
  "vscode": {
   "interpreter": {
    "hash": "b32d006a877fc03b47390280b60ec97387e1c23431d65fa713589101b5f2f7af"
   }
  }
 },
 "nbformat": 4,
 "nbformat_minor": 2
}
